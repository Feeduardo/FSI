{
  "nbformat": 4,
  "nbformat_minor": 0,
  "metadata": {
    "colab": {
      "name": "Apresentação",
      "provenance": [],
      "authorship_tag": "ABX9TyM4KPTqWv+ifhSqqN9A8p4t",
      "include_colab_link": true
    },
    "kernelspec": {
      "name": "python3",
      "display_name": "Python 3"
    }
  },
  "cells": [
    {
      "cell_type": "markdown",
      "metadata": {
        "id": "view-in-github",
        "colab_type": "text"
      },
      "source": [
        "<a href=\"https://colab.research.google.com/github/Feeduardo/FSI/blob/master/Apresenta%C3%A7%C3%A3o.ipynb\" target=\"_parent\"><img src=\"https://colab.research.google.com/assets/colab-badge.svg\" alt=\"Open In Colab\"/></a>"
      ]
    },
    {
      "cell_type": "code",
      "metadata": {
        "id": "d423mdRTf1Z6",
        "colab_type": "code",
        "colab": {}
      },
      "source": [
        "import pandas as pd\n",
        "import seaborn as sns\n",
        "import numpy as np\n",
        "\n",
        "df = pd.read_csv(\"train.csv\")\n",
        "df.head()"
      ],
      "execution_count": 0,
      "outputs": []
    },
    {
      "cell_type": "code",
      "metadata": {
        "id": "YL7g45ECzy-O",
        "colab_type": "code",
        "colab": {}
      },
      "source": [
        "df.info()"
      ],
      "execution_count": 0,
      "outputs": []
    },
    {
      "cell_type": "code",
      "metadata": {
        "id": "JmZkIMyJyZUT",
        "colab_type": "code",
        "colab": {}
      },
      "source": [
        "df['Age'].isnull().sum()\n",
        "#isnull verifica a existência de valores nulos, e o sum realiza a somatória desses valores"
      ],
      "execution_count": 0,
      "outputs": []
    },
    {
      "cell_type": "code",
      "metadata": {
        "id": "bNsAPmDR1AXZ",
        "colab_type": "code",
        "colab": {}
      },
      "source": [
        "df['Cabin'].isnull().sum()"
      ],
      "execution_count": 0,
      "outputs": []
    },
    {
      "cell_type": "code",
      "metadata": {
        "id": "hLtvX1rNIFG-",
        "colab_type": "code",
        "colab": {}
      },
      "source": [
        "df['Age'] = df['Age'].fillna(df['Age'].mean())\n",
        "#fillna preenche valores nulos com valores determinados pelo usuário\n",
        "\n",
        "df['Sex'] = df['Sex'] == 'male'\n",
        "df['Sex']"
      ],
      "execution_count": 0,
      "outputs": []
    },
    {
      "cell_type": "code",
      "metadata": {
        "id": "sZ0loXti7qMd",
        "colab_type": "code",
        "colab": {}
      },
      "source": [
        "df['Sex'] = df.Sex.map(lambda i: int(i))\n",
        "df['Sex'].unique()"
      ],
      "execution_count": 0,
      "outputs": []
    },
    {
      "cell_type": "code",
      "metadata": {
        "id": "6lXYZBcE7b_M",
        "colab_type": "code",
        "colab": {}
      },
      "source": [
        "df['Cabin'] = df.Cabin.fillna('N')\n",
        "df['Cabin'] = df.Cabin.map(lambda x: x[0])\n",
        "df.Cabin.unique()"
      ],
      "execution_count": 0,
      "outputs": []
    },
    {
      "cell_type": "code",
      "metadata": {
        "id": "yknYBDsq3FBM",
        "colab_type": "code",
        "colab": {}
      },
      "source": [
        "df_cabin_plot= sns.countplot(x='Cabin' ,data= df)\n",
        "df_cabin_plot.figure.savefig('plot')"
      ],
      "execution_count": 0,
      "outputs": []
    },
    {
      "cell_type": "code",
      "metadata": {
        "id": "pjaU_V6zcZ5e",
        "colab_type": "code",
        "colab": {}
      },
      "source": [
        "from sklearn import preprocessing\n",
        "\n",
        "label_encoder = preprocessing.LabelEncoder()\n",
        "df['Cabin']= label_encoder.fit_transform(df.Cabin)\n",
        "#codifica a label (string) e transforma em um número\n",
        "\n",
        "df['Cabin'].unique()"
      ],
      "execution_count": 0,
      "outputs": []
    },
    {
      "cell_type": "code",
      "metadata": {
        "id": "xB45GZS7eXc2",
        "colab_type": "code",
        "colab": {}
      },
      "source": [
        "df['Embarked'] = df.Embarked.fillna('N')\n",
        "df['Embarked'] = label_encoder.fit_transform(df.Embarked)\n",
        "df['Embarked'].unique()"
      ],
      "execution_count": 0,
      "outputs": []
    },
    {
      "cell_type": "code",
      "metadata": {
        "id": "e4UAwz6T07RV",
        "colab_type": "code",
        "colab": {}
      },
      "source": [
        "X=df.drop(columns=['Survived','Name','Ticket','PassengerId'])\n",
        "X.head()"
      ],
      "execution_count": 0,
      "outputs": []
    },
    {
      "cell_type": "code",
      "metadata": {
        "id": "1cMk7wNpAKLK",
        "colab_type": "code",
        "colab": {}
      },
      "source": [
        "y = df.loc[:,'Survived']\n",
        "y.head()"
      ],
      "execution_count": 0,
      "outputs": []
    },
    {
      "cell_type": "code",
      "metadata": {
        "id": "nJT87kskFLz9",
        "colab_type": "code",
        "colab": {}
      },
      "source": [
        "from sklearn.model_selection import train_test_split\n",
        "Xtrain, Xtest, ytrain, ytest = train_test_split(X, y, random_state=42)"
      ],
      "execution_count": 0,
      "outputs": []
    },
    {
      "cell_type": "code",
      "metadata": {
        "id": "INs1wygQOPrV",
        "colab_type": "code",
        "colab": {}
      },
      "source": [
        "model_bayes.fit(Xtrain,ytrain)"
      ],
      "execution_count": 0,
      "outputs": []
    },
    {
      "cell_type": "code",
      "metadata": {
        "id": "enGMGbOXQfhE",
        "colab_type": "code",
        "colab": {}
      },
      "source": [
        "y_bayes = model_bayes.predict(Xtest)\n",
        "y_bayes"
      ],
      "execution_count": 0,
      "outputs": []
    },
    {
      "cell_type": "code",
      "metadata": {
        "id": "CXFBl1OYTPTs",
        "colab_type": "code",
        "colab": {}
      },
      "source": [
        "from sklearn.metrics import accuracy_score\n",
        "accuracy_score(ytest, y_bayes)"
      ],
      "execution_count": 0,
      "outputs": []
    },
    {
      "cell_type": "code",
      "metadata": {
        "id": "nNOxibmalv6w",
        "colab_type": "code",
        "colab": {}
      },
      "source": [
        "from sklearn.model_selection import cross_val_score\n",
        "cross_val_score(model_bayes, X, y, cv=5 )"
      ],
      "execution_count": 0,
      "outputs": []
    },
    {
      "cell_type": "code",
      "metadata": {
        "id": "Tin3NkL1jG5u",
        "colab_type": "code",
        "colab": {}
      },
      "source": [
        "from sklearn.ensemble import RandomForestClassifier\n",
        "model_rnd_forest = RandomForestClassifier()\n",
        "model_rnd_forest.fit(Xtrain, ytrain)"
      ],
      "execution_count": 0,
      "outputs": []
    },
    {
      "cell_type": "code",
      "metadata": {
        "id": "kFFyUqpHT60n",
        "colab_type": "code",
        "colab": {}
      },
      "source": [
        "y_rnd_forest = model_rnd_forest.predict(Xtest)\n",
        "accuracy_score(ytest, y_rnd_forest)"
      ],
      "execution_count": 0,
      "outputs": []
    },
    {
      "cell_type": "code",
      "metadata": {
        "id": "-lIfKV41JNlh",
        "colab_type": "code",
        "colab": {}
      },
      "source": [
        "from sklearn.model_selection import GridSearchCV\n",
        "\n",
        "param_grid = {\n",
        "    'n_estimators': [100,200,300],\n",
        "    'bootstrap': [True,False],\n",
        "    'criterion':['gini','entropy'],\n",
        "    'warm_start': [True,False]\n",
        "}\n",
        "\n",
        "grid = GridSearchCV(RandomForestClassifier(), param_grid, cv = 5)\n",
        "grid.fit(Xtest, ytest)"
      ],
      "execution_count": 0,
      "outputs": []
    },
    {
      "cell_type": "markdown",
      "metadata": {
        "id": "YTihiM2DQOqt",
        "colab_type": "text"
      },
      "source": [
        "https://scikit-learn.org/stable/modules/generated/sklearn.ensemble.RandomForestClassifier.html\n"
      ]
    },
    {
      "cell_type": "code",
      "metadata": {
        "id": "9_Ralj5rKZlX",
        "colab_type": "code",
        "colab": {}
      },
      "source": [
        "model_rnd_forest_grid = grid.best_estimator_\n",
        "model_rnd_forest_grid.fit(Xtrain,ytrain)"
      ],
      "execution_count": 0,
      "outputs": []
    },
    {
      "cell_type": "code",
      "metadata": {
        "id": "7Ggiedu9NAVF",
        "colab_type": "code",
        "colab": {}
      },
      "source": [
        "y_grid = model_rnd_forest_grid.predict(Xtest)\n",
        "accuracy_score(ytest, y_grid)"
      ],
      "execution_count": 0,
      "outputs": []
    }
  ]
}